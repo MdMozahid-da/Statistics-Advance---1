{
  "nbformat": 4,
  "nbformat_minor": 0,
  "metadata": {
    "colab": {
      "provenance": []
    },
    "kernelspec": {
      "name": "python3",
      "display_name": "Python 3"
    },
    "language_info": {
      "name": "python"
    }
  },
  "cells": [
    {
      "cell_type": "markdown",
      "source": [
        "#Statistics Advance 1"
      ],
      "metadata": {
        "id": "GV136KkHKtOo"
      }
    },
    {
      "cell_type": "markdown",
      "source": [
        "1. What is a random variable in probability theory?\n",
        "\n",
        " - A random variable is a function that assigns numerical values to outcomes of a random experiment. For instance, rolling a die results in outcomes like 1, 2, 3, and so on. It helps quantify randomness by associating real numbers with uncertain events. Random variables are essential in statistical analysis and probability theory. They are categorized into discrete and continuous types based on the nature of their possible outcomes."
      ],
      "metadata": {
        "id": "xlBf4ybnKwQs"
      }
    },
    {
      "cell_type": "markdown",
      "source": [
        "2. What are the types of random variables?\n",
        "\n",
        " - There are two main types of random variables: discrete and continuous. A discrete random variable has specific, countable outcomes, such as the number of heads in five coin tosses. A continuous random variable, on the other hand, can take any value within an interval, like the time it takes to complete a task. Each type of random variable is used to model different real-world situations involving uncertainty."
      ],
      "metadata": {
        "id": "spR4quyCRs14"
      }
    },
    {
      "cell_type": "markdown",
      "source": [
        "3. What is the difference between discrete and continuous distributions?\n",
        "\n",
        " - Discrete distributions involve outcomes that are countable and distinct, like the result of a dice roll. Continuous distributions deal with measurable outcomes within a range, such as heights or weights. In a discrete distribution, probabilities are assigned to exact values, whereas in continuous distributions, probabilities are represented as areas under a curve. These distinctions help in choosing the right models for different types of data."
      ],
      "metadata": {
        "id": "_uBWyZjqSKQG"
      }
    },
    {
      "cell_type": "markdown",
      "source": [
        "4. What are probability distribution functions (PDF)?\n",
        " -  A probability distribution function defines the likelihood of different outcomes for a random variable. For discrete random variables, it provides probabilities for specific outcomes, like the chance of rolling a 4. For continuous random variables, it describes the probability density, and probabilities are calculated over intervals. PDF is crucial in analyzing and interpreting probabilistic events."
      ],
      "metadata": {
        "id": "mOPfxvX7STMw"
      }
    },
    {
      "cell_type": "markdown",
      "source": [
        "5. How do cumulative distribution functions (CDF) differ from probability distribution functions (PDF)?\n",
        " - A cumulative distribution function (CDF) gives the probability that a random variable is less than or equal to a specific value. In contrast, a probability distribution function (PDF) provides the probability of exact values or intervals. CDF is cumulative, showing the aggregated probability up to a point, while PDF focuses on the likelihood of specific ranges. Both are vital tools in probability and statistics."
      ],
      "metadata": {
        "id": "6-lST0NOSa7M"
      }
    },
    {
      "cell_type": "markdown",
      "source": [
        "6. What is a discrete uniform distribution?\n",
        " -  A discrete uniform distribution models situations where all outcomes have equal probability. For instance, rolling a fair six-sided die results in each face (1, 2, 3, 4, 5, and 6) having an equal chance of appearing, i.e., 1/6. This type of distribution is common in games of chance and simple probabilistic models. The formula for calculating probabilities in a discrete uniform distribution is\n",
        "𝑃\n",
        "(\n",
        "𝑋\n",
        "=\n",
        "𝑥\n",
        ")\n",
        "=\n",
        "1\n",
        "𝑁\n",
        ", where\n",
        "𝑁\n",
        " is the total number of outcomes.\n",
        "\n"
      ],
      "metadata": {
        "id": "3LElpZvRS4Sp"
      }
    },
    {
      "cell_type": "markdown",
      "source": [
        "7. What are the key properties of a Bernoulli distribution?\n",
        " -  A Bernoulli distribution models a single trial with two possible outcomes: success (1) or failure (0). It is defined by a success probability\n",
        "𝑝\n",
        ", and the probability of failure is\n",
        "1\n",
        "−\n",
        "𝑝\n",
        ". Examples include flipping a coin (Heads = 1, Tails = 0) or determining if a light bulb works. Its mean is\n",
        "𝑝\n",
        ", and variance is\n",
        "𝑝\n",
        "(\n",
        "1\n",
        "−\n",
        "𝑝\n",
        ")\n",
        ". Bernoulli distributions are the building blocks for binomial distributions."
      ],
      "metadata": {
        "id": "nN169n_STE29"
      }
    },
    {
      "cell_type": "markdown",
      "source": [
        "8. What is the binomial distribution, and how is it used in probability?\n",
        " - The binomial distribution extends the Bernoulli model to multiple independent trials, where each trial has a success probability\n",
        "𝑝\n",
        ". It represents the probability of observing a fixed number of successes (\n",
        "𝑘\n",
        ") in\n",
        "𝑛\n",
        " trials. For example, it can model the number of defective items in a batch of 20 items. The formula is given as: $$P(X = k) = \\binom{n}{k} p^k (1-p)^{n-k}$$ where\n",
        "(\n",
        "𝑛\n",
        "𝑘\n",
        ")\n",
        " is the binomial coefficient."
      ],
      "metadata": {
        "id": "yVLKmkgUTKML"
      }
    },
    {
      "cell_type": "markdown",
      "source": [
        "9. What is the Poisson distribution and where is it applied?\n",
        " -  The Poisson distribution models the number of events occurring in a fixed interval of time or space, given a constant average rate (\n",
        "𝜆\n",
        ") and independent occurrences. It’s used in situations like the number of calls received at a helpline or the arrival of customers at a store. The formula is: $$P(X = k) = \\frac{\\lambda^k e^{-\\lambda}}{k!}$$ where\n",
        "𝑘\n",
        " is the number of events. This distribution helps analyze rare events over fixed intervals."
      ],
      "metadata": {
        "id": "3S46MeT7TTOC"
      }
    },
    {
      "cell_type": "markdown",
      "source": [
        "10. What is a continuous uniform distribution?\n",
        " -  A continuous uniform distribution models scenarios where outcomes are equally likely over a continuous range. For example, if a random number is chosen between 0 and 10, the probability density is constant for all values in that interval. Its probability density function is given by: $$f(x) = \\frac{1}{b-a}, \\text{ for } a \\leq x \\leq b$$ where\n",
        "𝑎\n",
        " and\n",
        "𝑏\n",
        " define the range. This distribution is widely used in simulations and sampling."
      ],
      "metadata": {
        "id": "Rx1WkiilTYvC"
      }
    },
    {
      "cell_type": "markdown",
      "source": [
        "11. What are the characteristics of a normal distribution?\n",
        " -  A normal distribution is a continuous probability distribution with a symmetric bell-shaped curve. Its key characteristics include:\n",
        "\n",
        "     The mean, median, and mode are all equal and lie at the center of the distribution.\n",
        "\n",
        "     Most data points are concentrated near the mean, with probabilities tapering off symmetrically as you move away.\n",
        "\n",
        "     It follows the empirical rule: approximately 68% of data lies within one standard deviation from the mean, 95% within two, and 99.7% within three. This distribution is widely used in statistics, biology, finance, and more."
      ],
      "metadata": {
        "id": "JcywZ_rITjPU"
      }
    },
    {
      "cell_type": "markdown",
      "source": [
        "12. What is the standard normal distribution, and why is it important?\n",
        " - The standard normal distribution is a special case of the normal distribution where the mean is 0 and the standard deviation is 1. Z-scores are used to transform any normal distribution into the standard normal distribution, enabling easy comparison of data across different datasets. It is crucial for hypothesis testing, determining probabilities, and creating confidence intervals in statistical analyses."
      ],
      "metadata": {
        "id": "7ArfinTqTqyP"
      }
    },
    {
      "cell_type": "markdown",
      "source": [
        "13. What is the Central Limit Theorem (CLT), and why is it critical in statistics?\n",
        " - The Central Limit Theorem states that the sampling distribution of the sample mean becomes approximately normal as the sample size increases, regardless of the population's original distribution. This theorem is critical because it allows statisticians to make inferences about population parameters using sample data. It forms the basis for many statistical methods, including confidence intervals and hypothesis tests."
      ],
      "metadata": {
        "id": "6uhYObzXTzV1"
      }
    },
    {
      "cell_type": "markdown",
      "source": [
        "14. How does the Central Limit Theorem relate to the normal distribution?\n",
        " -  The Central Limit Theorem explains why the normal distribution is so significant in statistics. Even if the original population is not normally distributed, the distribution of sample means will approximate a normal distribution for large sample sizes. This property is used to justify the application of normal models to a variety of real-world problems, regardless of the underlying data."
      ],
      "metadata": {
        "id": "ILg-88_MT439"
      }
    },
    {
      "cell_type": "markdown",
      "source": [
        "15. What is the application of Z statistics in hypothesis testing?\n",
        " -  Z statistics are used to test whether the difference between a sample mean and the population mean is statistically significant. By calculating the Z-score, researchers can determine how far the sample mean deviates from the population mean in terms of standard deviations. This value is then compared to critical Z-values to accept or reject the null hypothesis, ensuring objective decision-making."
      ],
      "metadata": {
        "id": "7lj2Vwj_UAFt"
      }
    },
    {
      "cell_type": "markdown",
      "source": [
        "16. How do you calculate a Z-score, and what does it represent?\n",
        " -  A Z-score measures how many standard deviations a specific value (\n",
        "𝑋\n",
        ") is from the mean (\n",
        "𝜇\n",
        ") of the dataset. It is calculated using the formula: $$Z = \\frac{(X - \\mu)}{\\sigma}$$ where\n",
        "𝜎\n",
        " is the standard deviation. Z-scores help standardize data, allowing comparisons across datasets with different means and standard deviations. For example, in hypothesis testing, Z-scores help determine if a sample value significantly deviates from the population mean."
      ],
      "metadata": {
        "id": "uXX82tfjUFin"
      }
    },
    {
      "cell_type": "markdown",
      "source": [
        "17. What are point estimates and interval estimates in statistics?\n",
        " -  A point estimate is a single value used to estimate a population parameter, like the sample mean representing the population mean. An interval estimate provides a range within which the parameter likely lies, such as a confidence interval. While point estimates are precise, interval estimates are more reliable as they consider uncertainty in the estimation process."
      ],
      "metadata": {
        "id": "OOUsJMVjUWSB"
      }
    },
    {
      "cell_type": "markdown",
      "source": [
        "18. What is the significance of confidence intervals in statistical analysis?\n",
        " -  Confidence intervals provide a range of values likely containing the population parameter, along with a confidence level (e.g., 95%). For instance, if a survey estimates an average weight with a 95% confidence interval of 60–70 kg, it means the true average is expected to fall within this range 95% of the time. Confidence intervals are crucial for understanding the precision and reliability of estimates."
      ],
      "metadata": {
        "id": "pdepc1mJUcKx"
      }
    },
    {
      "cell_type": "markdown",
      "source": [
        "19. What is the relationship between a Z-score and a confidence interval?\n",
        " - Z-scores determine critical values that define the bounds of confidence intervals. For a 95% confidence interval, the Z-scores are approximately\n",
        "±1.96\n",
        ". Using these Z-scores, confidence intervals are calculated as: $$\\text{Confidence Interval} = \\mu \\pm Z \\cdot \\frac{\\sigma}{\\sqrt{n}}$$ where\n",
        "𝜇\n",
        " is the mean,\n",
        "𝜎\n",
        " is the standard deviation, and\n",
        "𝑛\n",
        " is the sample size. This ensures the interval includes the population mean with the desired confidence level."
      ],
      "metadata": {
        "id": "UDWOBkQOUoIz"
      }
    },
    {
      "cell_type": "markdown",
      "source": [
        "20. How are Z-scores used to compare different distributions?\n",
        " -  Z-scores standardize data by removing units, allowing comparisons between different distributions. For example, if you have test scores from two exams with different scales, you can calculate Z-scores for each score to compare their relative performance. This makes Z-scores a versatile tool for cross-distribution analysis and normalization."
      ],
      "metadata": {
        "id": "1j7TrfpNU7Pz"
      }
    },
    {
      "cell_type": "markdown",
      "source": [
        "21. What are the assumptions for applying the Central Limit Theorem (CLT)?\n",
        " - The Central Limit Theorem (CLT) is based on a few key assumptions:\n",
        "\n",
        "     Independence: The sampled data should consist of independent observations.\n",
        "\n",
        "     Identically Distributed: The population or process being sampled should have an identical distribution.\n",
        "\n",
        "     Sample Size: The sample size should be sufficiently large. Typically, a size of 30 or more is considered adequate for the theorem to hold true. These conditions ensure that the sampling distribution of the sample mean approximates normality, regardless of the population's distribution."
      ],
      "metadata": {
        "id": "qNfzPekUVFKo"
      }
    },
    {
      "cell_type": "markdown",
      "source": [
        "22. What is the concept of expected value in a probability distribution?\n",
        " - The expected value of a random variable represents its long-term average value over numerous trials or experiments. It is calculated as a weighted average of all possible values, with the weights being their corresponding probabilities. For a discrete random variable\n",
        "𝑋\n",
        ", it is given by: $$E(X) = \\sum [x \\cdot P(X = x)]$$ where\n",
        "𝑥\n",
        " are the outcomes and\n",
        "𝑃\n",
        "(\n",
        "𝑋\n",
        "=\n",
        "𝑥\n",
        ")\n",
        " are their probabilities. Expected value is central to decision-making and predictions in probability and statistics."
      ],
      "metadata": {
        "id": "AQHwOY8nVLcL"
      }
    },
    {
      "cell_type": "markdown",
      "source": [
        "23. How does a probability distribution relate to the expected outcome of a random variable?\n",
        " - A probability distribution describes the likelihood of different outcomes for a random variable. This distribution directly determines the expected outcome, as the probabilities assigned to various values are used to compute the expected value. For example, in rolling a fair six-sided die, the probability distribution assigns equal likelihood (1/6) to each face, and the expected value is the mean of all possible outcomes, i.e., 3.5."
      ],
      "metadata": {
        "id": "nNRy8V8sVP8J"
      }
    },
    {
      "cell_type": "markdown",
      "source": [
        "# Practical questions"
      ],
      "metadata": {
        "id": "-0mqPLalVZQu"
      }
    },
    {
      "cell_type": "markdown",
      "source": [
        "1. Write a Python program to generate a random variable and display its value."
      ],
      "metadata": {
        "id": "rGuyCk-44vyl"
      }
    },
    {
      "cell_type": "code",
      "source": [
        "'''\n",
        "import random\n",
        "\n",
        "# Generate a random variable\n",
        "random_variable = random.randint(1, 100)  # Random integer between 1 and 100\n",
        "print(\"Random Variable:\", random_variable)\n",
        "'''"
      ],
      "metadata": {
        "id": "sZO6DRRU5HOZ"
      },
      "execution_count": null,
      "outputs": []
    },
    {
      "cell_type": "markdown",
      "source": [
        "2. Generate a discrete uniform distribution using Python and plot the probability mass function (PMF)."
      ],
      "metadata": {
        "id": "c5jZiPUp5Hui"
      }
    },
    {
      "cell_type": "code",
      "source": [
        "'''\n",
        "import numpy as np\n",
        "import matplotlib.pyplot as plt\n",
        "\n",
        "# Generate discrete uniform distribution\n",
        "values = np.arange(1, 7)  # Outcomes: 1 to 6 for a die roll\n",
        "probabilities = np.full(len(values), 1/len(values))  # Equal probabilities\n",
        "plt.bar(values, probabilities, color='blue')\n",
        "plt.xlabel('Outcome')\n",
        "plt.ylabel('Probability')\n",
        "plt.title('Discrete Uniform Distribution (PMF)')\n",
        "plt.show()\n",
        "'''"
      ],
      "metadata": {
        "id": "oV6oOwzd5Ok7"
      },
      "execution_count": null,
      "outputs": []
    },
    {
      "cell_type": "markdown",
      "source": [
        "3. Write a Python function to calculate the probability distribution function (PDF) of a Bernoulli distribution."
      ],
      "metadata": {
        "id": "0nuA7XqE5O-q"
      }
    },
    {
      "cell_type": "code",
      "source": [
        "'''\n",
        "def bernoulli_pdf(p, x):\n",
        "    return p if x == 1 else (1 - p)\n",
        "\n",
        "# Example usage\n",
        "probability_of_success = 0.7\n",
        "for x in [0, 1]:\n",
        "    print(f\"P(X={x}) =\", bernoulli_pdf(probability_of_success, x))\n",
        "'''"
      ],
      "metadata": {
        "id": "8kvHjdjj5a1Y"
      },
      "execution_count": null,
      "outputs": []
    },
    {
      "cell_type": "markdown",
      "source": [
        "4. Write a Python script to simulate a binomial distribution with n=10 and p=0.5, then plot its histogram."
      ],
      "metadata": {
        "id": "g4IHwydE5cCP"
      }
    },
    {
      "cell_type": "code",
      "source": [
        "'''\n",
        "import numpy as np\n",
        "import matplotlib.pyplot as plt\n",
        "\n",
        "# Simulate binomial distribution\n",
        "n, p = 10, 0.5\n",
        "data = np.random.binomial(n, p, 1000)  # 1000 trials\n",
        "plt.hist(data, bins=np.arange(n+2)-0.5, density=True, color='purple', edgecolor='black')\n",
        "plt.xlabel('Number of Successes')\n",
        "plt.ylabel('Frequency')\n",
        "plt.title('Binomial Distribution Histogram')\n",
        "plt.show()\n",
        "'''"
      ],
      "metadata": {
        "id": "WQxkOMcI5iul"
      },
      "execution_count": null,
      "outputs": []
    },
    {
      "cell_type": "markdown",
      "source": [
        "5. Create a Poisson distribution and visualize it using Python."
      ],
      "metadata": {
        "id": "BnlNo2zB5jKz"
      }
    },
    {
      "cell_type": "code",
      "source": [
        "'''\n",
        "import numpy as np\n",
        "import matplotlib.pyplot as plt\n",
        "\n",
        "# Poisson distribution\n",
        "lambda_param = 5\n",
        "data = np.random.poisson(lambda_param, 1000)\n",
        "plt.hist(data, bins=30, density=True, color='green', edgecolor='black')\n",
        "plt.xlabel('Events')\n",
        "plt.ylabel('Frequency')\n",
        "plt.title('Poisson Distribution')\n",
        "plt.show()\n",
        "'''"
      ],
      "metadata": {
        "id": "4jxoHARs5oNk"
      },
      "execution_count": null,
      "outputs": []
    },
    {
      "cell_type": "markdown",
      "source": [
        "6. Write a Python program to calculate and plot the cumulative distribution function (CDF) of a discrete uniform distribution."
      ],
      "metadata": {
        "id": "8-vv5F6g5oph"
      }
    },
    {
      "cell_type": "code",
      "source": [
        "'''\n",
        "import numpy as np\n",
        "import matplotlib.pyplot as plt\n",
        "\n",
        "values = np.arange(1, 7)\n",
        "probabilities = np.full(len(values), 1/len(values))\n",
        "cdf = np.cumsum(probabilities)  # Cumulative sum\n",
        "plt.step(values, cdf, where='post', color='red')\n",
        "plt.xlabel('Outcome')\n",
        "plt.ylabel('CDF')\n",
        "plt.title('Cumulative Distribution Function (CDF)')\n",
        "plt.show()\n",
        "'''"
      ],
      "metadata": {
        "id": "CkmiZsOC56hx"
      },
      "execution_count": null,
      "outputs": []
    },
    {
      "cell_type": "markdown",
      "source": [
        "7. Generate a continuous uniform distribution using NumPy and visualize it."
      ],
      "metadata": {
        "id": "izPohqi6565x"
      }
    },
    {
      "cell_type": "code",
      "source": [
        "'''\n",
        "import numpy as np\n",
        "import matplotlib.pyplot as plt\n",
        "\n",
        "data = np.random.uniform(0, 1, 1000)  # Generate 1000 samples\n",
        "plt.hist(data, bins=30, density=True, color='orange', edgecolor='black')\n",
        "plt.xlabel('Value')\n",
        "plt.ylabel('Density')\n",
        "plt.title('Continuous Uniform Distribution')\n",
        "plt.show()\n",
        "'''"
      ],
      "metadata": {
        "id": "xGszCw-J6CMU"
      },
      "execution_count": null,
      "outputs": []
    },
    {
      "cell_type": "markdown",
      "source": [
        "8. Simulate data from a normal distribution and plot its histogram."
      ],
      "metadata": {
        "id": "gP1HnBX76Chm"
      }
    },
    {
      "cell_type": "code",
      "source": [
        "'''\n",
        "import numpy as np\n",
        "import matplotlib.pyplot as plt\n",
        "\n",
        "mean, std_dev = 0, 1  # Standard normal distribution\n",
        "data = np.random.normal(mean, std_dev, 1000)\n",
        "plt.hist(data, bins=30, density=True, color='cyan', edgecolor='black')\n",
        "plt.xlabel('Value')\n",
        "plt.ylabel('Density')\n",
        "plt.title('Normal Distribution Histogram')\n",
        "plt.show()\n",
        "'''"
      ],
      "metadata": {
        "id": "snzEq0Ie6Izy"
      },
      "execution_count": null,
      "outputs": []
    },
    {
      "cell_type": "markdown",
      "source": [
        "9. Write a Python function to calculate Z-scores from a dataset and plot them."
      ],
      "metadata": {
        "id": "_Q1zdDgc6JK7"
      }
    },
    {
      "cell_type": "code",
      "source": [
        "'''\n",
        "import numpy as np\n",
        "import matplotlib.pyplot as plt\n",
        "\n",
        "def calculate_z_scores(data):\n",
        "    mean = np.mean(data)\n",
        "    std_dev = np.std(data)\n",
        "    return (data - mean) / std_dev\n",
        "\n",
        "data = np.random.normal(0, 1, 1000)\n",
        "z_scores = calculate_z_scores(data)\n",
        "plt.hist(z_scores, bins=30, density=True, color='magenta', edgecolor='black')\n",
        "plt.xlabel('Z-score')\n",
        "plt.ylabel('Density')\n",
        "plt.title('Z-scores Histogram')\n",
        "plt.show()\n",
        "'''"
      ],
      "metadata": {
        "id": "joPRHrcr61lF"
      },
      "execution_count": null,
      "outputs": []
    },
    {
      "cell_type": "markdown",
      "source": [
        "10. Implement the Central Limit Theorem (CLT) using Python for a non-normal distribution."
      ],
      "metadata": {
        "id": "jGHS3p-o62N8"
      }
    },
    {
      "cell_type": "code",
      "source": [
        "'''\n",
        "import numpy as np\n",
        "import matplotlib.pyplot as plt\n",
        "\n",
        "# Non-normal distribution (uniform)\n",
        "sample_size = 30\n",
        "num_samples = 1000\n",
        "data = np.random.uniform(0, 1, sample_size * num_samples).reshape(num_samples, sample_size)\n",
        "sample_means = data.mean(axis=1)\n",
        "plt.hist(sample_means, bins=30, density=True, color='brown', edgecolor='black')\n",
        "plt.xlabel('Sample Mean')\n",
        "plt.ylabel('Density')\n",
        "plt.title('Central Limit Theorem Demonstration')\n",
        "plt.show()\n",
        "'''"
      ],
      "metadata": {
        "id": "IAYtSmfV68j2"
      },
      "execution_count": null,
      "outputs": []
    },
    {
      "cell_type": "markdown",
      "source": [
        "11. Simulate multiple samples from a normal distribution and verify the Central Limit Theorem."
      ],
      "metadata": {
        "id": "lkjx6zuu7nvV"
      }
    },
    {
      "cell_type": "code",
      "source": [
        "'''\n",
        "import numpy as np\n",
        "import matplotlib.pyplot as plt\n",
        "\n",
        "# Simulate samples\n",
        "sample_size = 30\n",
        "num_samples = 1000\n",
        "data = np.random.normal(loc=0, scale=1, size=(num_samples, sample_size))\n",
        "sample_means = data.mean(axis=1)\n",
        "\n",
        "# Plot histogram of sample means\n",
        "plt.hist(sample_means, bins=30, density=True, color='blue', edgecolor='black')\n",
        "plt.xlabel('Sample Mean')\n",
        "plt.ylabel('Frequency')\n",
        "plt.title('Verification of Central Limit Theorem')\n",
        "plt.show()\n",
        "'''"
      ],
      "metadata": {
        "id": "ZJw8nUiR72Qq"
      },
      "execution_count": null,
      "outputs": []
    },
    {
      "cell_type": "markdown",
      "source": [
        "12. Write a Python function to calculate and plot the standard normal distribution (mean = 0, std = 1)."
      ],
      "metadata": {
        "id": "wCL8qiK072qA"
      }
    },
    {
      "cell_type": "code",
      "source": [
        "'''\n",
        "import numpy as np\n",
        "import matplotlib.pyplot as plt\n",
        "\n",
        "def standard_normal_distribution():\n",
        "    x = np.linspace(-4, 4, 1000)\n",
        "    pdf = (1 / np.sqrt(2 * np.pi)) * np.exp(-0.5 * x**2)\n",
        "    plt.plot(x, pdf, color='red')\n",
        "    plt.xlabel('Value')\n",
        "    plt.ylabel('Density')\n",
        "    plt.title('Standard Normal Distribution (mean=0, std=1)')\n",
        "    plt.show()\n",
        "\n",
        "# Call the function\n",
        "standard_normal_distribution()\n",
        "'''"
      ],
      "metadata": {
        "id": "uWMsGOQO8m29"
      },
      "execution_count": null,
      "outputs": []
    },
    {
      "cell_type": "markdown",
      "source": [
        "13. Generate random variables and calculate their corresponding probabilities using the binomial distribution."
      ],
      "metadata": {
        "id": "dl9MZgvl8nT7"
      }
    },
    {
      "cell_type": "code",
      "source": [
        "'''\n",
        "import numpy as np\n",
        "from scipy.stats import binom\n",
        "\n",
        "n, p = 10, 0.5\n",
        "x = np.arange(0, n+1)\n",
        "probabilities = binom.pmf(x, n, p)\n",
        "for i, prob in enumerate(probabilities):\n",
        "    print(f\"P(X={i}) = {prob:.4f}\")\n",
        "'''"
      ],
      "metadata": {
        "id": "AyeYr8Z-9dtq"
      },
      "execution_count": null,
      "outputs": []
    },
    {
      "cell_type": "markdown",
      "source": [
        "14. Write a Python program to calculate the Z-score for a given data point and compare it to a standard normal distribution."
      ],
      "metadata": {
        "id": "QNTbMehF9eEZ"
      }
    },
    {
      "cell_type": "code",
      "source": [
        "'''\n",
        "from scipy.stats import norm\n",
        "\n",
        "# Given data\n",
        "data_point = 70\n",
        "mean = 65\n",
        "std_dev = 5\n",
        "\n",
        "# Calculate Z-score\n",
        "z_score = (data_point - mean) / std_dev\n",
        "print(f\"Z-score: {z_score:.2f}\")\n",
        "\n",
        "# Compare to standard normal distribution\n",
        "probability = norm.cdf(z_score)\n",
        "print(f\"Probability of scoring less than {data_point}: {probability:.4f}\")\n",
        "'''"
      ],
      "metadata": {
        "id": "zmKX101v9lb9"
      },
      "execution_count": null,
      "outputs": []
    },
    {
      "cell_type": "markdown",
      "source": [
        "15. Implement hypothesis testing using Z-statistics for a sample dataset."
      ],
      "metadata": {
        "id": "nNBg4_zB9l0Z"
      }
    },
    {
      "cell_type": "code",
      "source": [
        "'''\n",
        "from scipy.stats import norm\n",
        "\n",
        "# Hypothesis testing\n",
        "sample_mean = 68\n",
        "population_mean = 65\n",
        "std_dev = 4\n",
        "sample_size = 30\n",
        "\n",
        "z_statistic = (sample_mean - population_mean) / (std_dev / np.sqrt(sample_size))\n",
        "p_value = 2 * (1 - norm.cdf(abs(z_statistic)))\n",
        "print(f\"Z-statistic: {z_statistic:.2f}\")\n",
        "print(f\"P-value: {p_value:.4f}\")\n",
        "'''"
      ],
      "metadata": {
        "id": "oSROuzxU9t_v"
      },
      "execution_count": null,
      "outputs": []
    },
    {
      "cell_type": "markdown",
      "source": [
        "16. Create a confidence interval for a dataset using Python and interpret the result."
      ],
      "metadata": {
        "id": "yUqPaj7l9uW7"
      }
    },
    {
      "cell_type": "code",
      "source": [
        "'''\n",
        "import numpy as np\n",
        "from scipy.stats import norm\n",
        "\n",
        "data = [65, 67, 70, 68, 66, 64, 69, 71, 63, 68]\n",
        "mean = np.mean(data)\n",
        "std_dev = np.std(data, ddof=1)\n",
        "confidence_level = 0.95\n",
        "z_critical = norm.ppf((1 + confidence_level) / 2)\n",
        "\n",
        "margin_of_error = z_critical * (std_dev / np.sqrt(len(data)))\n",
        "confidence_interval = (mean - margin_of_error, mean + margin_of_error)\n",
        "print(f\"95% Confidence Interval: {confidence_interval}\")\n",
        "'''"
      ],
      "metadata": {
        "id": "s4nd6Vw491Ec"
      },
      "execution_count": null,
      "outputs": []
    },
    {
      "cell_type": "markdown",
      "source": [
        "17. Generate data from a normal distribution, then calculate and interpret the confidence interval for its mean."
      ],
      "metadata": {
        "id": "I9trwp5G91bl"
      }
    },
    {
      "cell_type": "code",
      "source": [
        "'''\n",
        "import numpy as np\n",
        "from scipy.stats import norm\n",
        "\n",
        "data = np.random.normal(50, 10, 100)  # Mean=50, Std=10, Sample size=100\n",
        "mean = np.mean(data)\n",
        "std_dev = np.std(data, ddof=1)\n",
        "confidence_level = 0.95\n",
        "z_critical = norm.ppf((1 + confidence_level) / 2)\n",
        "\n",
        "margin_of_error = z_critical * (std_dev / np.sqrt(len(data)))\n",
        "confidence_interval = (mean - margin_of_error, mean + margin_of_error)\n",
        "print(f\"95% Confidence Interval: {confidence_interval}\")\n",
        "'''"
      ],
      "metadata": {
        "id": "Le4tTIib-EdH"
      },
      "execution_count": null,
      "outputs": []
    },
    {
      "cell_type": "markdown",
      "source": [
        "18. Write a Python script to calculate and visualize the probability density function (PDF) of a normal distribution."
      ],
      "metadata": {
        "id": "NrqEMNrz-E2d"
      }
    },
    {
      "cell_type": "code",
      "source": [
        "'''\n",
        "import numpy as np\n",
        "import matplotlib.pyplot as plt\n",
        "\n",
        "mean, std_dev = 0, 1\n",
        "x = np.linspace(-4, 4, 1000)\n",
        "pdf = (1 / (std_dev * np.sqrt(2 * np.pi))) * np.exp(-0.5 * ((x - mean) / std_dev)**2)\n",
        "\n",
        "plt.plot(x, pdf, color='blue')\n",
        "plt.xlabel('Value')\n",
        "plt.ylabel('Density')\n",
        "plt.title('Normal Distribution PDF')\n",
        "plt.show()\n",
        "'''"
      ],
      "metadata": {
        "id": "XtIULTfu-MyS"
      },
      "execution_count": null,
      "outputs": []
    },
    {
      "cell_type": "markdown",
      "source": [
        "19. Use Python to calculate and interpret the cumulative distribution function (CDF) of a Poisson distribution."
      ],
      "metadata": {
        "id": "39nAV6_Y-NTm"
      }
    },
    {
      "cell_type": "code",
      "source": [
        "'''\n",
        "from scipy.stats import poisson\n",
        "\n",
        "lambda_param = 3\n",
        "x = 5\n",
        "cdf = poisson.cdf(x, lambda_param)\n",
        "print(f\"Probability of X <= {x}: {cdf:.4f}\")\n",
        "'''"
      ],
      "metadata": {
        "id": "nnLN8I5D-W5R"
      },
      "execution_count": null,
      "outputs": []
    },
    {
      "cell_type": "markdown",
      "source": [
        "20. Simulate a random variable using a continuous uniform distribution and calculate its expected value."
      ],
      "metadata": {
        "id": "jDtvF8zK-XeG"
      }
    },
    {
      "cell_type": "code",
      "source": [
        "'''\n",
        "import numpy as np\n",
        "\n",
        "data = np.random.uniform(10, 20, 1000)  # Uniform distribution between 10 and 20\n",
        "expected_value = np.mean(data)\n",
        "print(f\"Expected Value: {expected_value:.2f}\")\n",
        "'''"
      ],
      "metadata": {
        "id": "tIbCGHHn-pyn"
      },
      "execution_count": null,
      "outputs": []
    },
    {
      "cell_type": "markdown",
      "source": [
        "21. Write a Python program to compare the standard deviations of two datasets and visualize the difference."
      ],
      "metadata": {
        "id": "_TBK66ec-qSP"
      }
    },
    {
      "cell_type": "code",
      "source": [
        "'''\n",
        "import numpy as np\n",
        "import matplotlib.pyplot as plt\n",
        "\n",
        "data1 = np.random.normal(50, 10, 1000)\n",
        "data2 = np.random.normal(60, 5, 1000)\n",
        "\n",
        "std_dev1 = np.std(data1)\n",
        "std_dev2 = np.std(data2)\n",
        "\n",
        "print(f\"Standard Deviation of Dataset 1: {std_dev1:.2f}\")\n",
        "print(f\"Standard Deviation of Dataset 2: {std_dev2:.2f}\")\n",
        "\n",
        "plt.hist(data1, bins=30, alpha=0.5, label='Dataset 1', color='blue')\n",
        "plt.hist(data2, bins=30, alpha=0.5, label='Dataset 2', color='green')\n",
        "plt.xlabel('Value')\n",
        "plt.ylabel('Frequency')\n",
        "plt.legend()\n",
        "plt.title('Comparison of Datasets')\n",
        "plt.show()\n",
        "'''"
      ],
      "metadata": {
        "id": "0Em0PEGe-xKi"
      },
      "execution_count": null,
      "outputs": []
    },
    {
      "cell_type": "markdown",
      "source": [
        "22. Calculate the range and interquartile range (IQR) of a dataset generated from a normal distribution."
      ],
      "metadata": {
        "id": "1lYoX8WL-xmD"
      }
    },
    {
      "cell_type": "code",
      "source": [
        "'''\n",
        "data = np.random.normal(50, 10, 1000)\n",
        "data_range = np.max(data) - np.min(data)\n",
        "q1, q3 = np.percentile(data, [25, 75])\n",
        "iqr = q3 - q1\n",
        "\n",
        "print(f\"Range: {data_range:.2f}\")\n",
        "print(f\"Interquartile Range (IQR): {iqr:.2f}\")\n",
        "'''"
      ],
      "metadata": {
        "id": "X2lKMWK1-6Xp"
      },
      "execution_count": null,
      "outputs": []
    },
    {
      "cell_type": "markdown",
      "source": [
        "23. Implement Z-score normalization on a dataset and visualize its transformation."
      ],
      "metadata": {
        "id": "v44r--1S-610"
      }
    },
    {
      "cell_type": "code",
      "source": [
        "'''\n",
        "import numpy as np\n",
        "import matplotlib.pyplot as plt\n",
        "\n",
        "data = np.random.normal(50, 10, 1000)\n",
        "normalized_data = (data - np.mean(data)) / np.std(data)\n",
        "\n",
        "plt.hist(normalized_data, bins=30, color='purple', edgecolor='black')\n",
        "plt.xlabel('Z-score')\n",
        "plt.ylabel('Frequency')\n",
        "plt.title('Z-score Normalized Data')\n",
        "plt.show()\n",
        "'''"
      ],
      "metadata": {
        "id": "377FfIQR_GbX"
      },
      "execution_count": null,
      "outputs": []
    },
    {
      "cell_type": "markdown",
      "source": [
        "24. Write a Python function to calculate the skewness and kurtosis of a dataset generated from a normal distribution."
      ],
      "metadata": {
        "id": "oq8YzVuE_Ap-"
      }
    },
    {
      "cell_type": "code",
      "source": [
        "'''\n",
        "from scipy.stats import skew, kurtosis\n",
        "\n",
        "data = np.random.normal(0, 1, 1000)\n",
        "skewness = skew(data)\n",
        "kurt = kurtosis(data)\n",
        "\n",
        "print(f\"Skewness: {skewness:.4f}\")\n",
        "print(f\"Kurtosis: {kurt:.4f}\")\n",
        "'''"
      ],
      "metadata": {
        "id": "D5gpU9mm_Fge"
      },
      "execution_count": null,
      "outputs": []
    }
  ]
}